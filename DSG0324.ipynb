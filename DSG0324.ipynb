{
 "cells": [
  {
   "cell_type": "code",
   "execution_count": 1,
   "id": "df730d6a-b1cc-4121-84df-2c4fc9f50797",
   "metadata": {},
   "outputs": [
    {
     "name": "stdout",
     "output_type": "stream",
     "text": [
      "Data Science World!!\n"
     ]
    }
   ],
   "source": [
    "print(\"Data Science World!!\")"
   ]
  },
  {
   "cell_type": "code",
   "execution_count": 2,
   "id": "9ccace42-815b-4321-a1e5-fda132a0e7f3",
   "metadata": {},
   "outputs": [
    {
     "name": "stdout",
     "output_type": "stream",
     "text": [
      "Ikedinachi Nwakanma\n"
     ]
    }
   ],
   "source": [
    "print(\"Ikedinachi Nwakanma\")"
   ]
  },
  {
   "cell_type": "code",
   "execution_count": 3,
   "id": "a6256bb8-362f-4b52-b88a-6771f70301e9",
   "metadata": {},
   "outputs": [
    {
     "name": "stdout",
     "output_type": "stream",
     "text": [
      "Machine Learning\n"
     ]
    }
   ],
   "source": [
    "print(\"Machine Learning\")"
   ]
  },
  {
   "cell_type": "code",
   "execution_count": 4,
   "id": "ca281cca-5ea7-47c1-9174-3c675bc6cd02",
   "metadata": {},
   "outputs": [
    {
     "name": "stdout",
     "output_type": "stream",
     "text": [
      "49\n"
     ]
    }
   ],
   "source": [
    "print(26+23)"
   ]
  },
  {
   "cell_type": "code",
   "execution_count": null,
   "id": "44a1ae45-c686-417d-a0b9-ccbc9f8192fe",
   "metadata": {},
   "outputs": [],
   "source": []
  }
 ],
 "metadata": {
  "kernelspec": {
   "display_name": "Python 3 (ipykernel)",
   "language": "python",
   "name": "python3"
  },
  "language_info": {
   "codemirror_mode": {
    "name": "ipython",
    "version": 3
   },
   "file_extension": ".py",
   "mimetype": "text/x-python",
   "name": "python",
   "nbconvert_exporter": "python",
   "pygments_lexer": "ipython3",
   "version": "3.11.7"
  }
 },
 "nbformat": 4,
 "nbformat_minor": 5
}
